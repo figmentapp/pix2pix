{
 "cells": [
  {
   "cell_type": "markdown",
   "id": "fcafba7c",
   "metadata": {},
   "source": [
    "# Convert generator model to TensorFlow.js model\n",
    "\n",
    "This script will be run *after* you trained using `pix2pix_train.py`. It will convert the generator model to a TensorFlow.js model you can run in the browser."
   ]
  },
  {
   "cell_type": "markdown",
   "id": "7cdf907b",
   "metadata": {},
   "source": [
    "## Setup"
   ]
  },
  {
   "cell_type": "code",
   "execution_count": null,
   "id": "d5b46ca6",
   "metadata": {},
   "outputs": [],
   "source": [
    "import os\n",
    "import subprocess\n",
    "import shutil"
   ]
  },
  {
   "cell_type": "code",
   "execution_count": null,
   "id": "4e3b89cc",
   "metadata": {},
   "outputs": [],
   "source": [
    "def ensure_directory(*args):\n",
    "    dir = os.path.join(*args)\n",
    "    try:\n",
    "        os.makedirs(dir)\n",
    "    except OSError as err:\n",
    "        if err.errno != 17:\n",
    "            raise err\n",
    "    return dir"
   ]
  },
  {
   "cell_type": "markdown",
   "id": "b1d8d702",
   "metadata": {},
   "source": [
    "## Project directory structure\n",
    "\n",
    "**You have to change this cell in order to make the script work.**\n",
    "\n",
    "- `project_dir`: the root of all project files.\n",
    "- `output_dir`: the directory where all the output goes, both the generator and tfjs folders will go here.\n",
    "- `generator_dir`: the directory where the generator model is saved.\n",
    "- `tfjs_dir`: the directory where the tfjs model will be saved."
   ]
  },
  {
   "cell_type": "code",
   "execution_count": null,
   "id": "19dff37a",
   "metadata": {},
   "outputs": [],
   "source": [
    "project_dir = \"_projects/myproject\"\n",
    "output_dir = os.path.join(project_dir, \"output/v001\")\n",
    "generator_dir = os.path.join(output_dir, \"generator\")\n",
    "tfjs_dir = ensure_directory(output_dir, \"tfjs\")"
   ]
  },
  {
   "cell_type": "markdown",
   "id": "303cb833",
   "metadata": {},
   "source": [
    "## Setup Tensorflow.js\n",
    "\n",
    "To convert the model we'll use the [tensorflowjs_converter](https://www.tensorflow.org/js/guide/conversion) script, which is installed as a Python library."
   ]
  },
  {
   "cell_type": "code",
   "execution_count": null,
   "id": "6e50d468",
   "metadata": {},
   "outputs": [],
   "source": [
    "%pip install -q tensorflowjs"
   ]
  },
  {
   "cell_type": "code",
   "execution_count": null,
   "id": "e5c9ac9d",
   "metadata": {},
   "outputs": [],
   "source": [
    "subprocess.run(['tensorflowjs_converter', 'quantize_uint8', '*', generator_dir, tfjs_dir])"
   ]
  },
  {
   "cell_type": "markdown",
   "id": "7e6ae143",
   "metadata": {},
   "source": [
    "Zip the `tfjs` folder so it's easier to download it."
   ]
  },
  {
   "cell_type": "code",
   "execution_count": null,
   "id": "4146b28b",
   "metadata": {},
   "outputs": [],
   "source": [
    "shutil.make_archive(os.path.join(output_dir, 'tfjs'), 'zip', output_dir, 'tfjs')"
   ]
  },
  {
   "cell_type": "markdown",
   "id": "0df63b40",
   "metadata": {},
   "source": [
    "Once it's done, go from the [Jupyter Notebook home page](/tree), select the .zip file in `your_project_folder/output/v001`, and click on the `Download` button."
   ]
  }
 ],
 "metadata": {
  "kernelspec": {
   "display_name": "Python 3",
   "language": "python",
   "name": "python3"
  },
  "language_info": {
   "codemirror_mode": {
    "name": "ipython",
    "version": 3
   },
   "file_extension": ".py",
   "mimetype": "text/x-python",
   "name": "python",
   "nbconvert_exporter": "python",
   "pygments_lexer": "ipython3",
   "version": "3.8.10"
  }
 },
 "nbformat": 4,
 "nbformat_minor": 5
}
