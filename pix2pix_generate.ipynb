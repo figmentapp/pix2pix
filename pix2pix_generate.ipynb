{
 "cells": [
  {
   "cell_type": "code",
   "execution_count": null,
   "metadata": {},
   "outputs": [],
   "source": [
    "import tensorflow as tf\n",
    "from PIL import Image\n",
    "import os\n",
    "import glob\n",
    "from matplotlib import pyplot as plt"
   ]
  },
  {
   "cell_type": "code",
   "execution_count": null,
   "metadata": {},
   "outputs": [],
   "source": [
    "def directory_should_exist(*args):\n",
    "    dir = os.path.join(*args)\n",
    "    if not os.path.isdir(dir):\n",
    "        raise Exception(\"Path '{}' is not a directory.\".format(dir))\n",
    "    return dir"
   ]
  },
  {
   "cell_type": "code",
   "execution_count": null,
   "metadata": {},
   "outputs": [],
   "source": [
    "def ensure_directory(*args):\n",
    "    dir = os.path.join(*args)\n",
    "    try:\n",
    "        os.makedirs(dir)\n",
    "    except OSError as err:\n",
    "        if err.errno != 17:\n",
    "            raise err\n",
    "    return dir"
   ]
  },
  {
   "cell_type": "code",
   "execution_count": null,
   "metadata": {},
   "outputs": [],
   "source": [
    "project_dir = directory_should_exist(\"_projects/myproject\")\n",
    "dataset_dir = directory_should_exist(project_dir, \"input/train\")\n",
    "output_dir = ensure_directory(project_dir, \"output/v001\")\n",
    "model_dir = output_dir\n",
    "model_file = directory_should_exist(model_dir, \"generator\")\n",
    "output_image_dir = ensure_directory(output_dir, \"images_test\")\n",
    "glob_pattern = '*.jpg'"
   ]
  },
  {
   "cell_type": "code",
   "execution_count": null,
   "metadata": {},
   "outputs": [],
   "source": [
    "sample_image_filename = glob.glob(os.path.join(dataset_dir, glob_pattern))[5]\n",
    "print(sample_image_filename)\n",
    "sample_image = tf.io.read_file(sample_image_filename)\n",
    "sample_image = tf.io.decode_jpeg(sample_image)\n",
    "print(sample_image.shape)"
   ]
  },
  {
   "cell_type": "code",
   "execution_count": null,
   "metadata": {},
   "outputs": [],
   "source": [
    "plt.figure()\n",
    "plt.imshow(sample_image)\n",
    "plt.show()"
   ]
  },
  {
   "cell_type": "code",
   "execution_count": null,
   "metadata": {},
   "outputs": [],
   "source": [
    "generator = tf.saved_model.load(model_file)"
   ]
  },
  {
   "cell_type": "code",
   "execution_count": null,
   "metadata": {},
   "outputs": [],
   "source": [
    "sample_mesh = sample_image[:, 512:, :]\n",
    "sample_mesh = tf.cast(sample_mesh, tf.float32)\n",
    "sample_mesh = (sample_mesh / 127.5) - 1"
   ]
  },
  {
   "cell_type": "code",
   "execution_count": null,
   "metadata": {},
   "outputs": [],
   "source": [
    "tf.reduce_min(sample_mesh).numpy(), tf.reduce_max(sample_mesh).numpy()"
   ]
  },
  {
   "cell_type": "code",
   "execution_count": null,
   "metadata": {},
   "outputs": [],
   "source": [
    "plt.figure()\n",
    "plt.imshow(sample_mesh * 0.5 + 0.5)\n",
    "plt.show()"
   ]
  },
  {
   "cell_type": "code",
   "execution_count": null,
   "metadata": {},
   "outputs": [],
   "source": [
    "output_image = generator(tf.expand_dims(sample_mesh, 0), training=False)\n",
    "output_image = tf.squeeze(output_image)"
   ]
  },
  {
   "cell_type": "code",
   "execution_count": null,
   "metadata": {},
   "outputs": [],
   "source": [
    "tf.reduce_min(output_image)"
   ]
  },
  {
   "cell_type": "code",
   "execution_count": null,
   "metadata": {},
   "outputs": [],
   "source": [
    "plt.figure()\n",
    "plt.imshow(output_image * 0.5 + 0.5)\n",
    "plt.show()"
   ]
  },
  {
   "cell_type": "code",
   "execution_count": null,
   "metadata": {},
   "outputs": [],
   "source": [
    "image_fnames = glob.glob(os.path.join(dataset_dir, glob_pattern))\n",
    "for fname in image_fnames:\n",
    "    sample_image = tf.io.read_file(fname)\n",
    "    sample_image = tf.io.decode_jpeg(sample_image)\n",
    "    sample_mesh = sample_image[:, 512:, :]\n",
    "    sample_mesh = tf.cast(sample_mesh, tf.float32)\n",
    "    sample_mesh = (sample_mesh / 127.5) - 1\n",
    "    output_image = generator(tf.expand_dims(sample_mesh, 0), training=True)\n",
    "    output_image = tf.squeeze(output_image)\n",
    "    output_image = tf.image.convert_image_dtype(output_image * 0.5 + 0.5, dtype=tf.uint8)\n",
    "    output_image = tf.image.encode_jpeg(output_image)\n",
    "    output_image_fname = os.path.join(output_image_dir, os.path.basename(fname))\n",
    "    tf.io.write_file(output_image_fname, output_image)\n",
    "    print('.', end='', flush=True)"
   ]
  },
  {
   "cell_type": "code",
   "execution_count": null,
   "metadata": {},
   "outputs": [],
   "source": []
  }
 ],
 "metadata": {
  "kernelspec": {
   "display_name": "Python 3",
   "language": "python",
   "name": "python3"
  },
  "language_info": {
   "codemirror_mode": {
    "name": "ipython",
    "version": 3
   },
   "file_extension": ".py",
   "mimetype": "text/x-python",
   "name": "python",
   "nbconvert_exporter": "python",
   "pygments_lexer": "ipython3",
   "version": "3.8.10"
  }
 },
 "nbformat": 4,
 "nbformat_minor": 2
}
